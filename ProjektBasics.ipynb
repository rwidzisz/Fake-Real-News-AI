{
 "cells": [
  {
   "cell_type": "code",
   "execution_count": 1,
   "metadata": {},
   "outputs": [],
   "source": [
    "import numpy as np\n",
    "import pandas as pd\n",
    "import matplotlib.pyplot as plt\n",
    "import sklearn.model_selection as ms\n",
    "import tensorflow as tf\n",
    "from sklearn.preprocessing import StandardScaler\n",
    "from sklearn.metrics import confusion_matrix\n",
    "from tensorflow import keras"
   ]
  },
  {
   "cell_type": "code",
   "execution_count": 2,
   "metadata": {},
   "outputs": [
    {
     "data": {
      "text/html": [
       "<div>\n",
       "<style scoped>\n",
       "    .dataframe tbody tr th:only-of-type {\n",
       "        vertical-align: middle;\n",
       "    }\n",
       "\n",
       "    .dataframe tbody tr th {\n",
       "        vertical-align: top;\n",
       "    }\n",
       "\n",
       "    .dataframe thead th {\n",
       "        text-align: right;\n",
       "    }\n",
       "</style>\n",
       "<table border=\"1\" class=\"dataframe\">\n",
       "  <thead>\n",
       "    <tr style=\"text-align: right;\">\n",
       "      <th></th>\n",
       "      <th>id</th>\n",
       "      <th>age</th>\n",
       "      <th>hypertension</th>\n",
       "      <th>heart_disease</th>\n",
       "      <th>avg_glucose_level</th>\n",
       "      <th>bmi</th>\n",
       "      <th>stroke</th>\n",
       "    </tr>\n",
       "  </thead>\n",
       "  <tbody>\n",
       "    <tr>\n",
       "      <th>count</th>\n",
       "      <td>5110.000000</td>\n",
       "      <td>5110.000000</td>\n",
       "      <td>5110.000000</td>\n",
       "      <td>5110.000000</td>\n",
       "      <td>5110.000000</td>\n",
       "      <td>4909.000000</td>\n",
       "      <td>5110.000000</td>\n",
       "    </tr>\n",
       "    <tr>\n",
       "      <th>mean</th>\n",
       "      <td>36517.829354</td>\n",
       "      <td>43.226614</td>\n",
       "      <td>0.097456</td>\n",
       "      <td>0.054012</td>\n",
       "      <td>106.147677</td>\n",
       "      <td>28.893237</td>\n",
       "      <td>0.048728</td>\n",
       "    </tr>\n",
       "    <tr>\n",
       "      <th>std</th>\n",
       "      <td>21161.721625</td>\n",
       "      <td>22.612647</td>\n",
       "      <td>0.296607</td>\n",
       "      <td>0.226063</td>\n",
       "      <td>45.283560</td>\n",
       "      <td>7.854067</td>\n",
       "      <td>0.215320</td>\n",
       "    </tr>\n",
       "    <tr>\n",
       "      <th>min</th>\n",
       "      <td>67.000000</td>\n",
       "      <td>0.080000</td>\n",
       "      <td>0.000000</td>\n",
       "      <td>0.000000</td>\n",
       "      <td>55.120000</td>\n",
       "      <td>10.300000</td>\n",
       "      <td>0.000000</td>\n",
       "    </tr>\n",
       "    <tr>\n",
       "      <th>25%</th>\n",
       "      <td>17741.250000</td>\n",
       "      <td>25.000000</td>\n",
       "      <td>0.000000</td>\n",
       "      <td>0.000000</td>\n",
       "      <td>77.245000</td>\n",
       "      <td>23.500000</td>\n",
       "      <td>0.000000</td>\n",
       "    </tr>\n",
       "    <tr>\n",
       "      <th>50%</th>\n",
       "      <td>36932.000000</td>\n",
       "      <td>45.000000</td>\n",
       "      <td>0.000000</td>\n",
       "      <td>0.000000</td>\n",
       "      <td>91.885000</td>\n",
       "      <td>28.100000</td>\n",
       "      <td>0.000000</td>\n",
       "    </tr>\n",
       "    <tr>\n",
       "      <th>75%</th>\n",
       "      <td>54682.000000</td>\n",
       "      <td>61.000000</td>\n",
       "      <td>0.000000</td>\n",
       "      <td>0.000000</td>\n",
       "      <td>114.090000</td>\n",
       "      <td>33.100000</td>\n",
       "      <td>0.000000</td>\n",
       "    </tr>\n",
       "    <tr>\n",
       "      <th>max</th>\n",
       "      <td>72940.000000</td>\n",
       "      <td>82.000000</td>\n",
       "      <td>1.000000</td>\n",
       "      <td>1.000000</td>\n",
       "      <td>271.740000</td>\n",
       "      <td>97.600000</td>\n",
       "      <td>1.000000</td>\n",
       "    </tr>\n",
       "  </tbody>\n",
       "</table>\n",
       "</div>"
      ],
      "text/plain": [
       "                 id          age  hypertension  heart_disease  \\\n",
       "count   5110.000000  5110.000000   5110.000000    5110.000000   \n",
       "mean   36517.829354    43.226614      0.097456       0.054012   \n",
       "std    21161.721625    22.612647      0.296607       0.226063   \n",
       "min       67.000000     0.080000      0.000000       0.000000   \n",
       "25%    17741.250000    25.000000      0.000000       0.000000   \n",
       "50%    36932.000000    45.000000      0.000000       0.000000   \n",
       "75%    54682.000000    61.000000      0.000000       0.000000   \n",
       "max    72940.000000    82.000000      1.000000       1.000000   \n",
       "\n",
       "       avg_glucose_level          bmi       stroke  \n",
       "count        5110.000000  4909.000000  5110.000000  \n",
       "mean          106.147677    28.893237     0.048728  \n",
       "std            45.283560     7.854067     0.215320  \n",
       "min            55.120000    10.300000     0.000000  \n",
       "25%            77.245000    23.500000     0.000000  \n",
       "50%            91.885000    28.100000     0.000000  \n",
       "75%           114.090000    33.100000     0.000000  \n",
       "max           271.740000    97.600000     1.000000  "
      ]
     },
     "execution_count": 2,
     "metadata": {},
     "output_type": "execute_result"
    }
   ],
   "source": [
    "df = pd.read_csv(\"C:\\\\Users\\\\rafal\\\\OneDrive\\\\Pulpit\\\\PSI\\\\TheStrokes.csv\")\n",
    "df.describe()"
   ]
  },
  {
   "cell_type": "code",
   "execution_count": 3,
   "metadata": {},
   "outputs": [],
   "source": [
    "df=df.rename(columns={\"stroke\":\"target\"})"
   ]
  },
  {
   "cell_type": "code",
   "execution_count": 4,
   "metadata": {},
   "outputs": [
    {
     "name": "stdout",
     "output_type": "stream",
     "text": [
      "{'ever_married': {'No': 0, 'Yes': 1}}\n"
     ]
    }
   ],
   "source": [
    "replace_map={'ever_married':{'Yes': 1, 'No': 0}}\n",
    "labels = df['ever_married'].astype('category').cat.categories.tolist()\n",
    "replace_map_comp = {'ever_married' : {k: v for k,v in zip(labels,list(range(0,len(labels)+1)))}}\n",
    "print(replace_map_comp)\n",
    "df.replace(replace_map_comp, inplace=True)"
   ]
  },
  {
   "cell_type": "code",
   "execution_count": 5,
   "metadata": {},
   "outputs": [
    {
     "name": "stdout",
     "output_type": "stream",
     "text": [
      "{'work_type': {'Govt_job': 0, 'Never_worked': 1, 'Private': 2, 'Self-employed': 3, 'children': 4}}\n"
     ]
    }
   ],
   "source": [
    "replace_map={'work_type':{'Private': 3, 'Self-employed': 2, 'children': 0, 'Govt_job': 4, 'Never_worked': 1}}\n",
    "labels = df['work_type'].astype('category').cat.categories.tolist()\n",
    "replace_map_comp = {'work_type' : {k: v for k,v in zip(labels,list(range(0,len(labels)+1)))}}\n",
    "print(replace_map_comp)\n",
    "df.replace(replace_map_comp, inplace=True)"
   ]
  },
  {
   "cell_type": "code",
   "execution_count": 6,
   "metadata": {},
   "outputs": [
    {
     "name": "stdout",
     "output_type": "stream",
     "text": [
      "{'Residence_type': {'Rural': 0, 'Urban': 1}}\n"
     ]
    }
   ],
   "source": [
    "replace_map={'Residence_type':{'Urban': 0, 'Rural': 1}}\n",
    "labels = df['Residence_type'].astype('category').cat.categories.tolist()\n",
    "replace_map_comp = {'Residence_type' : {k: v for k,v in zip(labels,list(range(0,len(labels)+1)))}}\n",
    "print(replace_map_comp)\n",
    "df.replace(replace_map_comp, inplace=True)"
   ]
  },
  {
   "cell_type": "code",
   "execution_count": 7,
   "metadata": {},
   "outputs": [
    {
     "name": "stdout",
     "output_type": "stream",
     "text": [
      "{'smoking_status': {'Unknown': 0, 'formerly smoked': 1, 'never smoked': 2, 'smokes': 3}}\n"
     ]
    }
   ],
   "source": [
    "replace_map={'smoking_status':{'never smoked': 0, 'Unknown': 1, 'formerly smoked': 2, 'smokes': 3}}\n",
    "labels = df['smoking_status'].astype('category').cat.categories.tolist()\n",
    "replace_map_comp = {'smoking_status' : {k: v for k,v in zip(labels,list(range(0,len(labels)+1)))}}\n",
    "print(replace_map_comp)\n",
    "df.replace(replace_map_comp, inplace=True)"
   ]
  },
  {
   "cell_type": "code",
   "execution_count": 8,
   "metadata": {},
   "outputs": [
    {
     "name": "stdout",
     "output_type": "stream",
     "text": [
      "{'gender': {'Female': 0, 'Male': 1, 'Other': 2}}\n"
     ]
    }
   ],
   "source": [
    "replace_map={'gender':{'Male': 1, 'Other': 0, 'Female': -1,}}\n",
    "labels = df['gender'].astype('category').cat.categories.tolist()\n",
    "replace_map_comp = {'gender' : {k: v for k,v in zip(labels,list(range(0,len(labels)+1)))}}\n",
    "print(replace_map_comp)\n",
    "df.replace(replace_map_comp, inplace=True)\n"
   ]
  },
  {
   "cell_type": "code",
   "execution_count": 9,
   "metadata": {},
   "outputs": [],
   "source": [
    "X = df.drop(\"target\",axis=1).copy()\n",
    "y=df[\"target\"].copy()"
   ]
  },
  {
   "cell_type": "code",
   "execution_count": 10,
   "metadata": {},
   "outputs": [],
   "source": [
    "X_train, X_test, y_train, y_test = ms.train_test_split(X, y, stratify= y, random_state=42)"
   ]
  },
  {
   "cell_type": "code",
   "execution_count": 11,
   "metadata": {},
   "outputs": [
    {
     "name": "stdout",
     "output_type": "stream",
     "text": [
      "Model: \"sequential\"\n",
      "_________________________________________________________________\n",
      "Layer (type)                 Output Shape              Param #   \n",
      "=================================================================\n",
      "dense (Dense)                (None, 500)               6000      \n",
      "_________________________________________________________________\n",
      "dense_1 (Dense)              (None, 500)               250500    \n",
      "_________________________________________________________________\n",
      "dense_2 (Dense)              (None, 250)               125250    \n",
      "_________________________________________________________________\n",
      "dense_3 (Dense)              (None, 250)               62750     \n",
      "_________________________________________________________________\n",
      "dense_4 (Dense)              (None, 125)               31375     \n",
      "_________________________________________________________________\n",
      "dense_5 (Dense)              (None, 125)               15750     \n",
      "_________________________________________________________________\n",
      "output (Dense)               (None, 3)                 378       \n",
      "=================================================================\n",
      "Total params: 492,003\n",
      "Trainable params: 492,003\n",
      "Non-trainable params: 0\n",
      "_________________________________________________________________\n"
     ]
    }
   ],
   "source": [
    "model = keras.models.Sequential([\n",
    "                    keras.layers.Input(shape=X_train.shape[1], name='input'),\n",
    "                    keras.layers.Dense(500, activation='relu'),\n",
    "                    keras.layers.Dense(500, activation='relu'),\n",
    "                    keras.layers.Dense(250, activation='relu'),\n",
    "                    keras.layers.Dense(250, activation='relu'),\n",
    "                    keras.layers.Dense(125, activation='relu'),\n",
    "                    keras.layers.Dense(125, activation='relu'),\n",
    "                    keras.layers.Dense(3, activation='softmax', name='output')\n",
    "                    ])\n",
    "\n",
    "model.compile(\n",
    "            loss='sparse_categorical_crossentropy',\n",
    "            optimizer='adam',\n",
    "            metrics= ['accuracy']\n",
    "            )\n",
    "\n",
    "model.summary()"
   ]
  },
  {
   "cell_type": "code",
   "execution_count": 12,
   "metadata": {},
   "outputs": [
    {
     "name": "stdout",
     "output_type": "stream",
     "text": [
      "Epoch 1/50\n",
      "120/120 [==============================] - 3s 18ms/step - loss: nan - accuracy: 0.9096 - val_loss: nan - val_accuracy: 0.9515\n",
      "Epoch 2/50\n",
      "120/120 [==============================] - 1s 5ms/step - loss: nan - accuracy: 0.9535 - val_loss: nan - val_accuracy: 0.9515\n",
      "Epoch 3/50\n",
      "120/120 [==============================] - 1s 5ms/step - loss: nan - accuracy: 0.9507 - val_loss: nan - val_accuracy: 0.9515\n",
      "Epoch 4/50\n",
      "120/120 [==============================] - 1s 5ms/step - loss: nan - accuracy: 0.9502 - val_loss: nan - val_accuracy: 0.9515\n",
      "Epoch 5/50\n",
      "120/120 [==============================] - 1s 5ms/step - loss: nan - accuracy: 0.9511 - val_loss: nan - val_accuracy: 0.9515\n",
      "Epoch 6/50\n",
      "120/120 [==============================] - 1s 5ms/step - loss: nan - accuracy: 0.9503 - val_loss: nan - val_accuracy: 0.9515\n",
      "Epoch 7/50\n",
      "120/120 [==============================] - 1s 5ms/step - loss: nan - accuracy: 0.9510 - val_loss: nan - val_accuracy: 0.9515\n",
      "Epoch 8/50\n",
      "120/120 [==============================] - 1s 6ms/step - loss: nan - accuracy: 0.9516 - val_loss: nan - val_accuracy: 0.9515\n",
      "Epoch 9/50\n",
      "120/120 [==============================] - 1s 6ms/step - loss: nan - accuracy: 0.9531 - val_loss: nan - val_accuracy: 0.9515\n",
      "Epoch 10/50\n",
      "120/120 [==============================] - 1s 5ms/step - loss: nan - accuracy: 0.9515 - val_loss: nan - val_accuracy: 0.9515\n",
      "Epoch 11/50\n",
      "120/120 [==============================] - 1s 5ms/step - loss: nan - accuracy: 0.9534 - val_loss: nan - val_accuracy: 0.9515\n",
      "Epoch 12/50\n",
      "120/120 [==============================] - 1s 6ms/step - loss: nan - accuracy: 0.9483 - val_loss: nan - val_accuracy: 0.9515\n",
      "Epoch 13/50\n",
      "120/120 [==============================] - 1s 5ms/step - loss: nan - accuracy: 0.9567 - val_loss: nan - val_accuracy: 0.9515\n",
      "Epoch 14/50\n",
      "120/120 [==============================] - 1s 5ms/step - loss: nan - accuracy: 0.9512 - val_loss: nan - val_accuracy: 0.9515\n",
      "Epoch 15/50\n",
      "120/120 [==============================] - 1s 5ms/step - loss: nan - accuracy: 0.9549 - val_loss: nan - val_accuracy: 0.9515\n",
      "Epoch 16/50\n",
      "120/120 [==============================] - 1s 6ms/step - loss: nan - accuracy: 0.9510 - val_loss: nan - val_accuracy: 0.9515\n",
      "Epoch 17/50\n",
      "120/120 [==============================] - 1s 5ms/step - loss: nan - accuracy: 0.9542 - val_loss: nan - val_accuracy: 0.9515\n",
      "Epoch 18/50\n",
      "120/120 [==============================] - 1s 5ms/step - loss: nan - accuracy: 0.9548 - val_loss: nan - val_accuracy: 0.9515\n",
      "Epoch 19/50\n",
      "120/120 [==============================] - 1s 6ms/step - loss: nan - accuracy: 0.9523 - val_loss: nan - val_accuracy: 0.9515\n",
      "Epoch 20/50\n",
      "120/120 [==============================] - 1s 6ms/step - loss: nan - accuracy: 0.9466 - val_loss: nan - val_accuracy: 0.9515\n",
      "Epoch 21/50\n",
      "120/120 [==============================] - 1s 5ms/step - loss: nan - accuracy: 0.9514 - val_loss: nan - val_accuracy: 0.9515\n",
      "Epoch 22/50\n",
      "120/120 [==============================] - 1s 5ms/step - loss: nan - accuracy: 0.9473 - val_loss: nan - val_accuracy: 0.9515\n",
      "Epoch 23/50\n",
      "120/120 [==============================] - 1s 5ms/step - loss: nan - accuracy: 0.9488 - val_loss: nan - val_accuracy: 0.9515\n",
      "Epoch 24/50\n",
      "120/120 [==============================] - 1s 5ms/step - loss: nan - accuracy: 0.9471 - val_loss: nan - val_accuracy: 0.9515\n",
      "Epoch 25/50\n",
      "120/120 [==============================] - 1s 5ms/step - loss: nan - accuracy: 0.9485 - val_loss: nan - val_accuracy: 0.9515\n",
      "Epoch 26/50\n",
      "120/120 [==============================] - 1s 6ms/step - loss: nan - accuracy: 0.9467 - val_loss: nan - val_accuracy: 0.9515\n",
      "Epoch 27/50\n",
      "120/120 [==============================] - 1s 5ms/step - loss: nan - accuracy: 0.9473 - val_loss: nan - val_accuracy: 0.9515\n",
      "Epoch 28/50\n",
      "120/120 [==============================] - 1s 5ms/step - loss: nan - accuracy: 0.9493 - val_loss: nan - val_accuracy: 0.9515\n",
      "Epoch 29/50\n",
      "120/120 [==============================] - 1s 5ms/step - loss: nan - accuracy: 0.9456 - val_loss: nan - val_accuracy: 0.9515\n",
      "Epoch 30/50\n",
      "120/120 [==============================] - 1s 6ms/step - loss: nan - accuracy: 0.9489 - val_loss: nan - val_accuracy: 0.9515\n",
      "Epoch 31/50\n",
      "120/120 [==============================] - 1s 6ms/step - loss: nan - accuracy: 0.9483 - val_loss: nan - val_accuracy: 0.9515\n",
      "Epoch 32/50\n",
      "120/120 [==============================] - 1s 5ms/step - loss: nan - accuracy: 0.9513 - val_loss: nan - val_accuracy: 0.9515\n",
      "Epoch 33/50\n",
      "120/120 [==============================] - 1s 5ms/step - loss: nan - accuracy: 0.9449 - val_loss: nan - val_accuracy: 0.9515\n",
      "Epoch 34/50\n",
      "120/120 [==============================] - 1s 8ms/step - loss: nan - accuracy: 0.9522 - val_loss: nan - val_accuracy: 0.9515\n",
      "Epoch 35/50\n",
      "120/120 [==============================] - 1s 8ms/step - loss: nan - accuracy: 0.9569 - val_loss: nan - val_accuracy: 0.9515\n",
      "Epoch 36/50\n",
      "120/120 [==============================] - 1s 8ms/step - loss: nan - accuracy: 0.9498 - val_loss: nan - val_accuracy: 0.9515\n",
      "Epoch 37/50\n",
      "120/120 [==============================] - 1s 8ms/step - loss: nan - accuracy: 0.9510 - val_loss: nan - val_accuracy: 0.9515\n",
      "Epoch 38/50\n",
      "120/120 [==============================] - 1s 6ms/step - loss: nan - accuracy: 0.9589 - val_loss: nan - val_accuracy: 0.9515\n",
      "Epoch 39/50\n",
      "120/120 [==============================] - 1s 7ms/step - loss: nan - accuracy: 0.9416 - val_loss: nan - val_accuracy: 0.9515\n",
      "Epoch 40/50\n",
      "120/120 [==============================] - 1s 6ms/step - loss: nan - accuracy: 0.9515 - val_loss: nan - val_accuracy: 0.9515\n",
      "Epoch 41/50\n",
      "120/120 [==============================] - 1s 6ms/step - loss: nan - accuracy: 0.9520 - val_loss: nan - val_accuracy: 0.9515\n",
      "Epoch 42/50\n",
      "120/120 [==============================] - 1s 7ms/step - loss: nan - accuracy: 0.9546 - val_loss: nan - val_accuracy: 0.9515\n",
      "Epoch 43/50\n",
      "120/120 [==============================] - 1s 5ms/step - loss: nan - accuracy: 0.9487 - val_loss: nan - val_accuracy: 0.9515\n",
      "Epoch 44/50\n",
      "120/120 [==============================] - 1s 5ms/step - loss: nan - accuracy: 0.9534 - val_loss: nan - val_accuracy: 0.9515\n",
      "Epoch 45/50\n",
      "120/120 [==============================] - 1s 5ms/step - loss: nan - accuracy: 0.9476 - val_loss: nan - val_accuracy: 0.9515\n",
      "Epoch 46/50\n",
      "120/120 [==============================] - 1s 6ms/step - loss: nan - accuracy: 0.9547 - val_loss: nan - val_accuracy: 0.9515\n",
      "Epoch 47/50\n",
      "120/120 [==============================] - 1s 6ms/step - loss: nan - accuracy: 0.9523 - val_loss: nan - val_accuracy: 0.9515\n",
      "Epoch 48/50\n",
      "120/120 [==============================] - 1s 6ms/step - loss: nan - accuracy: 0.9565 - val_loss: nan - val_accuracy: 0.9515\n",
      "Epoch 49/50\n",
      "120/120 [==============================] - 1s 5ms/step - loss: nan - accuracy: 0.9539 - val_loss: nan - val_accuracy: 0.9515\n",
      "Epoch 50/50\n",
      "120/120 [==============================] - 1s 5ms/step - loss: nan - accuracy: 0.9520 - val_loss: nan - val_accuracy: 0.9515\n"
     ]
    }
   ],
   "source": [
    "history = model.fit(X_train, y_train, epochs=50, validation_data=(X_test, y_test))"
   ]
  },
  {
   "cell_type": "code",
   "execution_count": null,
   "metadata": {},
   "outputs": [],
   "source": []
  }
 ],
 "metadata": {
  "kernelspec": {
   "display_name": "Python 3",
   "language": "python",
   "name": "python3"
  },
  "language_info": {
   "codemirror_mode": {
    "name": "ipython",
    "version": 3
   },
   "file_extension": ".py",
   "mimetype": "text/x-python",
   "name": "python",
   "nbconvert_exporter": "python",
   "pygments_lexer": "ipython3",
   "version": "3.8.5"
  }
 },
 "nbformat": 4,
 "nbformat_minor": 4
}
