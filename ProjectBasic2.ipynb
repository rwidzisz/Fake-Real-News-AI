{
 "cells": [
  {
   "cell_type": "code",
   "execution_count": 1,
   "metadata": {},
   "outputs": [],
   "source": [
    "import numpy as np\n",
    "import pandas as pd\n",
    "import matplotlib.pyplot as plt\n",
    "import sklearn.model_selection as ms\n",
    "import tensorflow as tf\n",
    "from sklearn.preprocessing import StandardScaler\n",
    "from sklearn.metrics import confusion_matrix\n",
    "from tensorflow import keras"
   ]
  },
  {
   "cell_type": "code",
   "execution_count": 3,
   "metadata": {},
   "outputs": [],
   "source": [
    "df = pd.read_csv(\"C:\\\\Users\\\\rafal\\\\OneDrive\\\\Pulpit\\\\PSI\\\\TheStrokes.csv\")"
   ]
  },
  {
   "cell_type": "code",
   "execution_count": 4,
   "metadata": {},
   "outputs": [],
   "source": [
    "df.describe()\n",
    "df = df.fillna(df.mean())\n",
    "df=df.rename(columns={\"stroke\":\"target\"})"
   ]
  },
  {
   "cell_type": "code",
   "execution_count": 5,
   "metadata": {},
   "outputs": [
    {
     "name": "stdout",
     "output_type": "stream",
     "text": [
      "{'work_type': {'children': 0, 'Never_worked': 1, 'Self-employed': 2, 'Private': 3, 'Govt_job': 4}}\n"
     ]
    }
   ],
   "source": [
    "replace_map={'work_type':{'children': 0,'Never_worked': 1, 'Self-employed': 2, 'Private': 3, 'Govt_job': 4}}\n",
    "labels = df['work_type'].astype('category').cat.categories.tolist()\n",
    "print(replace_map)\n",
    "df.replace(replace_map, inplace=True)"
   ]
  },
  {
   "cell_type": "code",
   "execution_count": 6,
   "metadata": {},
   "outputs": [
    {
     "name": "stdout",
     "output_type": "stream",
     "text": [
      "{'ever_married': {'Yes': 1, 'No': 0}}\n"
     ]
    }
   ],
   "source": [
    "replace_map={'ever_married':{'Yes': 1, 'No': 0}}\n",
    "labels = df['ever_married'].astype('category').cat.categories.tolist()\n",
    "print(replace_map)\n",
    "df.replace(replace_map, inplace=True)"
   ]
  },
  {
   "cell_type": "code",
   "execution_count": 7,
   "metadata": {},
   "outputs": [
    {
     "name": "stdout",
     "output_type": "stream",
     "text": [
      "{'Residence_type': {'Urban': 1, 'Rural': 0}}\n"
     ]
    }
   ],
   "source": [
    "replace_map={'Residence_type':{'Urban': 1, 'Rural': 0}}\n",
    "labels = df['Residence_type'].astype('category').cat.categories.tolist()\n",
    "print(replace_map)\n",
    "df.replace(replace_map, inplace=True)"
   ]
  },
  {
   "cell_type": "code",
   "execution_count": 8,
   "metadata": {},
   "outputs": [
    {
     "name": "stdout",
     "output_type": "stream",
     "text": [
      "{'smoking_status': {'never smoked': 0, 'Unknown': 1, 'formerly smoked': 2, 'smokes': 3}}\n"
     ]
    }
   ],
   "source": [
    "replace_map={'smoking_status':{'never smoked': 0, 'Unknown': 1, 'formerly smoked': 2, 'smokes': 3}}\n",
    "labels = df['smoking_status'].astype('category').cat.categories.tolist()\n",
    "print(replace_map)\n",
    "df.replace(replace_map, inplace=True)"
   ]
  },
  {
   "cell_type": "code",
   "execution_count": 9,
   "metadata": {},
   "outputs": [
    {
     "name": "stdout",
     "output_type": "stream",
     "text": [
      "{'gender': {'Male': 1, 'Other': 0, 'Female': -1}}\n"
     ]
    }
   ],
   "source": [
    "replace_map={'gender':{'Male': 1, 'Other': 0, 'Female': -1,}}\n",
    "labels = df['gender'].astype('category').cat.categories.tolist()\n",
    "print(replace_map)\n",
    "df.replace(replace_map, inplace=True)"
   ]
  },
  {
   "cell_type": "code",
   "execution_count": 10,
   "metadata": {},
   "outputs": [],
   "source": [
    "X = df.drop(\"target\",axis=1).copy()\n",
    "y=df[\"target\"].copy()"
   ]
  },
  {
   "cell_type": "code",
   "execution_count": 12,
   "metadata": {},
   "outputs": [],
   "source": [
    "X_train, X_test, y_train, y_test = ms.train_test_split(X, y, stratify= y, random_state=42)"
   ]
  },
  {
   "cell_type": "code",
   "execution_count": 13,
   "metadata": {},
   "outputs": [
    {
     "name": "stdout",
     "output_type": "stream",
     "text": [
      "Model: \"sequential\"\n",
      "_________________________________________________________________\n",
      "Layer (type)                 Output Shape              Param #   \n",
      "=================================================================\n",
      "dense (Dense)                (None, 500)               6000      \n",
      "_________________________________________________________________\n",
      "dense_1 (Dense)              (None, 500)               250500    \n",
      "_________________________________________________________________\n",
      "dense_2 (Dense)              (None, 250)               125250    \n",
      "_________________________________________________________________\n",
      "dense_3 (Dense)              (None, 250)               62750     \n",
      "_________________________________________________________________\n",
      "dense_4 (Dense)              (None, 125)               31375     \n",
      "_________________________________________________________________\n",
      "dense_5 (Dense)              (None, 125)               15750     \n",
      "_________________________________________________________________\n",
      "output (Dense)               (None, 3)                 378       \n",
      "=================================================================\n",
      "Total params: 492,003\n",
      "Trainable params: 492,003\n",
      "Non-trainable params: 0\n",
      "_________________________________________________________________\n"
     ]
    }
   ],
   "source": [
    "model = keras.models.Sequential([\n",
    "                    keras.layers.Input(shape=X_train.shape[1], name='input'),\n",
    "                    keras.layers.Dense(500, activation='relu'),\n",
    "                    keras.layers.Dense(500, activation='relu'),\n",
    "                    keras.layers.Dense(250, activation='relu'),\n",
    "                    keras.layers.Dense(250, activation='relu'),\n",
    "                    keras.layers.Dense(125, activation='relu'),\n",
    "                    keras.layers.Dense(125, activation='relu'),\n",
    "                    keras.layers.Dense(3, activation='softmax', name='output')\n",
    "                    ])\n",
    "\n",
    "model.compile(\n",
    "            loss='sparse_categorical_crossentropy',\n",
    "            optimizer='adam',\n",
    "            metrics= ['accuracy']\n",
    "            )\n",
    "\n",
    "model.summary()"
   ]
  },
  {
   "cell_type": "code",
   "execution_count": null,
   "metadata": {},
   "outputs": [
    {
     "name": "stdout",
     "output_type": "stream",
     "text": [
      "Epoch 1/500\n",
      "120/120 [==============================] - 2s 8ms/step - loss: 99.9612 - accuracy: 0.8579 - val_loss: 43.1704 - val_accuracy: 0.9515\n",
      "Epoch 2/500\n",
      "120/120 [==============================] - 1s 5ms/step - loss: 32.0787 - accuracy: 0.8895 - val_loss: 4.9515 - val_accuracy: 0.9515\n",
      "Epoch 3/500\n",
      "120/120 [==============================] - 1s 5ms/step - loss: 6.1257 - accuracy: 0.8956 - val_loss: 2.8549 - val_accuracy: 0.9515\n",
      "Epoch 4/500\n",
      "120/120 [==============================] - 1s 7ms/step - loss: 1.7545 - accuracy: 0.9196 - val_loss: 0.3667 - val_accuracy: 0.9515\n",
      "Epoch 5/500\n",
      "120/120 [==============================] - 1s 6ms/step - loss: 2.9049 - accuracy: 0.9118 - val_loss: 8.2225 - val_accuracy: 0.9515\n",
      "Epoch 6/500\n",
      "120/120 [==============================] - 1s 6ms/step - loss: 4.5378 - accuracy: 0.9265 - val_loss: 1.6637 - val_accuracy: 0.9515\n",
      "Epoch 7/500\n",
      "120/120 [==============================] - 1s 5ms/step - loss: 0.5379 - accuracy: 0.9534 - val_loss: 0.3147 - val_accuracy: 0.9515\n",
      "Epoch 8/500\n",
      "120/120 [==============================] - 1s 6ms/step - loss: 0.2929 - accuracy: 0.9484 - val_loss: 0.2346 - val_accuracy: 0.9515\n",
      "Epoch 9/500\n",
      "120/120 [==============================] - 1s 5ms/step - loss: 0.2459 - accuracy: 0.9516 - val_loss: 0.2417 - val_accuracy: 0.9515\n",
      "Epoch 10/500\n",
      "120/120 [==============================] - 1s 6ms/step - loss: 0.2486 - accuracy: 0.9520 - val_loss: 0.2298 - val_accuracy: 0.9515\n",
      "Epoch 11/500\n",
      "120/120 [==============================] - 1s 6ms/step - loss: 0.2653 - accuracy: 0.9461 - val_loss: 0.2439 - val_accuracy: 0.9515\n",
      "Epoch 12/500\n",
      "120/120 [==============================] - 1s 7ms/step - loss: 0.2584 - accuracy: 0.9501 - val_loss: 0.2182 - val_accuracy: 0.9515\n",
      "Epoch 13/500\n",
      "120/120 [==============================] - 1s 6ms/step - loss: 0.2361 - accuracy: 0.9512 - val_loss: 0.2119 - val_accuracy: 0.9515\n",
      "Epoch 14/500\n",
      "120/120 [==============================] - 1s 5ms/step - loss: 0.2308 - accuracy: 0.9504 - val_loss: 0.2131 - val_accuracy: 0.9515\n",
      "Epoch 15/500\n",
      "120/120 [==============================] - 1s 5ms/step - loss: 0.2367 - accuracy: 0.9515 - val_loss: 0.2440 - val_accuracy: 0.9515\n",
      "Epoch 16/500\n",
      "120/120 [==============================] - 1s 5ms/step - loss: 0.2353 - accuracy: 0.9498 - val_loss: 0.2042 - val_accuracy: 0.9515\n",
      "Epoch 17/500\n",
      "120/120 [==============================] - 1s 6ms/step - loss: 0.2620 - accuracy: 0.9427 - val_loss: 0.2862 - val_accuracy: 0.9515\n",
      "Epoch 18/500\n",
      "120/120 [==============================] - 1s 5ms/step - loss: 0.2710 - accuracy: 0.9508 - val_loss: 0.6503 - val_accuracy: 0.9515\n",
      "Epoch 19/500\n",
      "120/120 [==============================] - 1s 5ms/step - loss: 0.3564 - accuracy: 0.9448 - val_loss: 0.2533 - val_accuracy: 0.9515\n",
      "Epoch 20/500\n",
      "120/120 [==============================] - 1s 5ms/step - loss: 0.2253 - accuracy: 0.9540 - val_loss: 0.2355 - val_accuracy: 0.9515\n",
      "Epoch 21/500\n",
      "120/120 [==============================] - 1s 5ms/step - loss: 0.2301 - accuracy: 0.9478 - val_loss: 0.1976 - val_accuracy: 0.9515\n",
      "Epoch 22/500\n",
      "120/120 [==============================] - 1s 5ms/step - loss: 0.1950 - accuracy: 0.9523 - val_loss: 0.2031 - val_accuracy: 0.9515\n",
      "Epoch 23/500\n",
      "120/120 [==============================] - 1s 6ms/step - loss: 0.1973 - accuracy: 0.9519 - val_loss: 0.1946 - val_accuracy: 0.9515\n",
      "Epoch 24/500\n",
      "120/120 [==============================] - 1s 5ms/step - loss: 0.2025 - accuracy: 0.9497 - val_loss: 0.1945 - val_accuracy: 0.9515\n",
      "Epoch 25/500\n",
      "120/120 [==============================] - 1s 4ms/step - loss: 0.1943 - accuracy: 0.9531 - val_loss: 0.1943 - val_accuracy: 0.9515\n",
      "Epoch 26/500\n",
      "120/120 [==============================] - 1s 5ms/step - loss: 0.1998 - accuracy: 0.9497 - val_loss: 0.1943 - val_accuracy: 0.9515\n",
      "Epoch 27/500\n",
      "120/120 [==============================] - 1s 5ms/step - loss: 3.8113 - accuracy: 0.9150 - val_loss: 0.1941 - val_accuracy: 0.9515\n",
      "Epoch 28/500\n",
      "120/120 [==============================] - 1s 9ms/step - loss: 0.1932 - accuracy: 0.9518 - val_loss: 0.1937 - val_accuracy: 0.9515\n",
      "Epoch 29/500\n",
      "120/120 [==============================] - 1s 6ms/step - loss: 0.1873 - accuracy: 0.9537 - val_loss: 0.1939 - val_accuracy: 0.9515\n",
      "Epoch 30/500\n",
      "120/120 [==============================] - 1s 6ms/step - loss: 0.7943 - accuracy: 0.9105 - val_loss: 0.1971 - val_accuracy: 0.9515\n",
      "Epoch 31/500\n",
      "120/120 [==============================] - 1s 5ms/step - loss: 0.3547 - accuracy: 0.9465 - val_loss: 0.1938 - val_accuracy: 0.9515\n",
      "Epoch 32/500\n",
      "120/120 [==============================] - 1s 6ms/step - loss: 0.2050 - accuracy: 0.9479 - val_loss: 0.8052 - val_accuracy: 0.9515\n",
      "Epoch 33/500\n",
      "120/120 [==============================] - 1s 4ms/step - loss: 0.2441 - accuracy: 0.9531 - val_loss: 0.1938 - val_accuracy: 0.9515\n",
      "Epoch 34/500\n",
      "120/120 [==============================] - 1s 5ms/step - loss: 0.1954 - accuracy: 0.9509 - val_loss: 0.1936 - val_accuracy: 0.9515\n",
      "Epoch 35/500\n",
      "120/120 [==============================] - 1s 4ms/step - loss: 0.2496 - accuracy: 0.9478 - val_loss: 0.1937 - val_accuracy: 0.9515\n",
      "Epoch 36/500\n",
      "120/120 [==============================] - 1s 5ms/step - loss: 0.2383 - accuracy: 0.9364 - val_loss: 0.1939 - val_accuracy: 0.9515\n",
      "Epoch 37/500\n",
      "120/120 [==============================] - 1s 5ms/step - loss: 0.2012 - accuracy: 0.9491 - val_loss: 0.1936 - val_accuracy: 0.9515\n",
      "Epoch 38/500\n",
      "120/120 [==============================] - 1s 5ms/step - loss: 0.1763 - accuracy: 0.9575 - val_loss: 0.1937 - val_accuracy: 0.9515\n",
      "Epoch 39/500\n",
      "120/120 [==============================] - 1s 5ms/step - loss: 0.1928 - accuracy: 0.9519 - val_loss: 0.1936 - val_accuracy: 0.9515\n",
      "Epoch 40/500\n",
      "120/120 [==============================] - 1s 5ms/step - loss: 0.1873 - accuracy: 0.9537 - val_loss: 0.1936 - val_accuracy: 0.9515\n",
      "Epoch 41/500\n",
      "120/120 [==============================] - 1s 4ms/step - loss: 0.1962 - accuracy: 0.9507 - val_loss: 0.1936 - val_accuracy: 0.9515\n",
      "Epoch 42/500\n",
      "120/120 [==============================] - 1s 4ms/step - loss: 0.1803 - accuracy: 0.9562 - val_loss: 0.1936 - val_accuracy: 0.9515\n",
      "Epoch 43/500\n",
      "120/120 [==============================] - 1s 4ms/step - loss: 0.1997 - accuracy: 0.9495 - val_loss: 0.1939 - val_accuracy: 0.9515\n",
      "Epoch 44/500\n",
      "120/120 [==============================] - 1s 5ms/step - loss: 0.2060 - accuracy: 0.9528 - val_loss: 0.1935 - val_accuracy: 0.9515\n",
      "Epoch 45/500\n",
      "120/120 [==============================] - 1s 5ms/step - loss: 0.1941 - accuracy: 0.9512 - val_loss: 0.1934 - val_accuracy: 0.9515\n",
      "Epoch 46/500\n",
      "120/120 [==============================] - 1s 5ms/step - loss: 0.2004 - accuracy: 0.9493 - val_loss: 0.1936 - val_accuracy: 0.9515\n",
      "Epoch 47/500\n",
      "120/120 [==============================] - 1s 5ms/step - loss: 0.1964 - accuracy: 0.9493 - val_loss: 0.1937 - val_accuracy: 0.9515\n",
      "Epoch 48/500\n",
      "120/120 [==============================] - 1s 5ms/step - loss: 0.1934 - accuracy: 0.9533 - val_loss: 0.1938 - val_accuracy: 0.9515\n",
      "Epoch 49/500\n",
      "120/120 [==============================] - 1s 4ms/step - loss: 0.2121 - accuracy: 0.9455 - val_loss: 0.1940 - val_accuracy: 0.9515\n",
      "Epoch 50/500\n",
      "120/120 [==============================] - 1s 4ms/step - loss: 0.1781 - accuracy: 0.9568 - val_loss: 0.1939 - val_accuracy: 0.9515\n",
      "Epoch 51/500\n",
      "120/120 [==============================] - 1s 4ms/step - loss: 0.2093 - accuracy: 0.9463 - val_loss: 0.1938 - val_accuracy: 0.9515\n",
      "Epoch 52/500\n",
      "120/120 [==============================] - 1s 4ms/step - loss: 0.1937 - accuracy: 0.9515 - val_loss: 0.1938 - val_accuracy: 0.9515\n",
      "Epoch 53/500\n",
      "120/120 [==============================] - 1s 5ms/step - loss: 0.2058 - accuracy: 0.9497 - val_loss: 1.4553 - val_accuracy: 0.9515\n",
      "Epoch 54/500\n",
      "120/120 [==============================] - 1s 5ms/step - loss: 1.8162 - accuracy: 0.9239 - val_loss: 0.1939 - val_accuracy: 0.9515\n",
      "Epoch 55/500\n",
      "120/120 [==============================] - 1s 5ms/step - loss: 0.1970 - accuracy: 0.9505 - val_loss: 0.1939 - val_accuracy: 0.9515\n",
      "Epoch 56/500\n",
      "120/120 [==============================] - 1s 5ms/step - loss: 0.1974 - accuracy: 0.9562 - val_loss: 0.1940 - val_accuracy: 0.9515\n",
      "Epoch 57/500\n",
      "120/120 [==============================] - 1s 5ms/step - loss: 0.1954 - accuracy: 0.9510 - val_loss: 0.1939 - val_accuracy: 0.9515\n"
     ]
    },
    {
     "name": "stdout",
     "output_type": "stream",
     "text": [
      "Epoch 58/500\n",
      "120/120 [==============================] - 1s 5ms/step - loss: 0.1869 - accuracy: 0.9538 - val_loss: 0.1939 - val_accuracy: 0.9515\n",
      "Epoch 59/500\n",
      "120/120 [==============================] - 1s 5ms/step - loss: 0.2034 - accuracy: 0.9483 - val_loss: 0.1939 - val_accuracy: 0.9515\n",
      "Epoch 60/500\n",
      "120/120 [==============================] - 1s 5ms/step - loss: 0.1982 - accuracy: 0.9501 - val_loss: 0.1939 - val_accuracy: 0.9515\n",
      "Epoch 61/500\n",
      "120/120 [==============================] - 1s 5ms/step - loss: 0.1944 - accuracy: 0.9514 - val_loss: 0.1937 - val_accuracy: 0.9515\n",
      "Epoch 62/500\n",
      "120/120 [==============================] - 1s 5ms/step - loss: 0.2014 - accuracy: 0.9490 - val_loss: 0.1934 - val_accuracy: 0.9515\n",
      "Epoch 63/500\n",
      " 86/120 [====================>.........] - ETA: 0s - loss: 0.2336 - accuracy: 0.94"
     ]
    }
   ],
   "source": [
    "history = model.fit(X_train, y_train, epochs=500, validation_data=(X_test, y_test))"
   ]
  },
  {
   "cell_type": "code",
   "execution_count": null,
   "metadata": {},
   "outputs": [],
   "source": []
  }
 ],
 "metadata": {
  "kernelspec": {
   "display_name": "Python 3",
   "language": "python",
   "name": "python3"
  },
  "language_info": {
   "codemirror_mode": {
    "name": "ipython",
    "version": 3
   },
   "file_extension": ".py",
   "mimetype": "text/x-python",
   "name": "python",
   "nbconvert_exporter": "python",
   "pygments_lexer": "ipython3",
   "version": "3.8.5"
  }
 },
 "nbformat": 4,
 "nbformat_minor": 4
}
